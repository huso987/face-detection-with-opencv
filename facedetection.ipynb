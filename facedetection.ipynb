{
  "nbformat": 4,
  "nbformat_minor": 0,
  "metadata": {
    "colab": {
      "provenance": []
    },
    "kernelspec": {
      "name": "python3",
      "display_name": "Python 3"
    },
    "language_info": {
      "name": "python"
    }
  },
  "cells": [
    {
      "cell_type": "code",
      "source": [
        "import cv2\n",
        "from google.colab.patches import cv2_imshow\n",
        "\n",
        "def detect_faces(image_path):\n",
        "    # Haar kaskad dosyasını yükle\n",
        "    face_cascade = cv2.CascadeClassifier(cv2.data.haarcascades + 'haarcascade_frontalface_default.xml')\n",
        "\n",
        "    # Resmi yükle\n",
        "    image = cv2.imread(image_path)\n",
        "    if image is None:\n",
        "        print(\"Resim yüklenemedi.\")\n",
        "        return\n",
        "\n",
        "    # Gri tonlamaya çevir\n",
        "    gray_image = cv2.cvtColor(image, cv2.COLOR_BGR2GRAY)\n",
        "\n",
        "    # Yüzleri algıla\n",
        "    faces = face_cascade.detectMultiScale(gray_image, scaleFactor=1.1, minNeighbors=5, minSize=(30, 30))\n",
        "\n",
        "    print(f\"Algılanan yüz sayısı: {len(faces)}\")\n",
        "\n",
        "    # Algılanan her yüz için dikdörtgen çiz\n",
        "    for (x, y, w, h) in faces:\n",
        "        cv2.rectangle(image, (x, y), (x+w, y+h), (0, 255, 0), 2)\n",
        "        cv2.putText(image, 'Face', (x, y-10), cv2.FONT_HERSHEY_SIMPLEX, 0.9, (36, 255, 12), 2)\n",
        "\n",
        "    # Sonuçları göster\n",
        "    cv2_imshow(image)\n",
        "    cv2.waitKey(0)\n",
        "    cv2.destroyAllWindows()\n",
        "\n",
        "# Test et\n",
        "image_path = '/content/drive/MyDrive/Colab çalışma/Neıman/facedetection/fener3.jpg'  # Buraya kendi resim yolunu yaz\n",
        "detect_faces(image_path)"
      ],
      "metadata": {
        "id": "4jKdhrynOSBc"
      },
      "execution_count": null,
      "outputs": []
    }
  ]
}